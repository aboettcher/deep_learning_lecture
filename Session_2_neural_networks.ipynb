{
 "cells": [
  {
   "cell_type": "code",
   "execution_count": 17,
   "metadata": {},
   "outputs": [],
   "source": [
    "import torch\n",
    "import numpy as np\n",
    "class Neuron:\n",
    "    def __init__(self):\n",
    "        self.w_0 = torch.autograd.Variable(torch.Tensor([1]), requires_grad=True)\n",
    "        self.w_1 = torch.autograd.Variable(torch.Tensor([1]), requires_grad=True)\n",
    "        self.bias = torch.autograd.Variable(torch.Tensor([1]), requires_grad=True)\n",
    "    \n",
    "    def f(self, x_0, x_1):\n",
    "        linear = x_0*self.w_0 + x_1*self.w_1 + self.bias\n",
    "        non_linear = torch.clip(linear, 0., np.inf)\n",
    "        return non_linear\n",
    "\n",
    "class OutPutNeuron:\n",
    "    def __init__(self):\n",
    "        self.w_0 = torch.autograd.Variable(torch.Tensor([1]), requires_grad=True)\n",
    "        self.w_1 = torch.autograd.Variable(torch.Tensor([1]), requires_grad=True)\n",
    "        self.bias = torch.autograd.Variable(torch.Tensor([1]), requires_grad=True)\n",
    "    \n",
    "    def f(self, x_0, x_1):\n",
    "        linear = x_0*self.w_0 + x_1*self.w_1 + self.bias\n",
    "        non_linear = torch.sigmoid(linear)\n",
    "        return non_linear\n",
    "    \n",
    "    \n",
    "n_0 = OutPutNeuron()\n",
    "n_1 = OutPutNeuron()\n",
    "\n",
    "n_1 = Neuron()\n",
    "n_2 = Neuron()\n",
    "\n",
    "def network(x_0, x_1):\n",
    "    y = n_0.f(n_1.f(x_0, x_1), n_2.f(x_0, x_1))\n",
    "    return y"
   ]
  },
  {
   "cell_type": "code",
   "execution_count": 38,
   "metadata": {},
   "outputs": [
    {
     "data": {
      "text/plain": [
       "tensor([0.7685], grad_fn=<SigmoidBackward>)"
      ]
     },
     "execution_count": 38,
     "metadata": {},
     "output_type": "execute_result"
    }
   ],
   "source": [
    "network(-1., 0.1)"
   ]
  },
  {
   "cell_type": "code",
   "execution_count": null,
   "metadata": {},
   "outputs": [],
   "source": []
  }
 ],
 "metadata": {
  "kernelspec": {
   "display_name": "Python 3.7.4 64-bit (conda)",
   "language": "python",
   "name": "python37464bitconda1afd2bebd57c4058801075be7a010ae1"
  },
  "language_info": {
   "codemirror_mode": {
    "name": "ipython",
    "version": 3
   },
   "file_extension": ".py",
   "mimetype": "text/x-python",
   "name": "python",
   "nbconvert_exporter": "python",
   "pygments_lexer": "ipython3",
   "version": "3.7.7"
  }
 },
 "nbformat": 4,
 "nbformat_minor": 2
}
