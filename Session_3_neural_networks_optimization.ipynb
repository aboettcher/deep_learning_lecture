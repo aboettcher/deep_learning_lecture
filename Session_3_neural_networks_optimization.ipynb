{
 "cells": [
  {
   "cell_type": "code",
   "execution_count": 1,
   "metadata": {},
   "outputs": [],
   "source": [
    "import torch\n",
    "import torch.nn as nn\n",
    "import numpy as np\n",
    "import sklearn.datasets\n",
    "import matplotlib.pyplot as plt\n",
    "class Neuron:\n",
    "    def __init__(self):\n",
    "        self.w_0 = torch.autograd.Variable(torch.Tensor([1]), requires_grad=True)\n",
    "        self.w_1 = torch.autograd.Variable(torch.Tensor([1]), requires_grad=True)\n",
    "        self.bias = torch.autograd.Variable(torch.Tensor([1]), requires_grad=True)\n",
    "    \n",
    "    def f(self, x_0, x_1):\n",
    "        linear = x_0*self.w_0 + x_1*self.w_1 + self.bias\n",
    "        non_linear = torch.clip(linear, 0., np.inf)\n",
    "        return non_linear\n",
    "\n",
    "class OutPutNeuron:\n",
    "    def __init__(self):\n",
    "        self.w_0 = torch.autograd.Variable(torch.Tensor([1]), requires_grad=True)\n",
    "        self.w_1 = torch.autograd.Variable(torch.Tensor([1]), requires_grad=True)\n",
    "        self.bias = torch.autograd.Variable(torch.Tensor([1]), requires_grad=True)\n",
    "    \n",
    "    def f(self, x_0, x_1):\n",
    "        linear = x_0*self.w_0 + x_1*self.w_1 + self.bias\n",
    "        non_linear = torch.sigmoid(linear)\n",
    "        return non_linear\n",
    "    \n",
    "    \n",
    "n_0 = OutPutNeuron()\n",
    "n_1 = OutPutNeuron()\n",
    "\n",
    "n_1 = Neuron()\n",
    "n_2 = Neuron()\n",
    "\n",
    "def network(x_0, x_1):\n",
    "    y = n_0.f(n_1.f(x_0, x_1), n_2.f(x_0, x_1))\n",
    "    return y"
   ]
  },
  {
   "cell_type": "code",
   "execution_count": 2,
   "metadata": {},
   "outputs": [
    {
     "data": {
      "text/plain": [
       "tensor([0.7685], grad_fn=<SigmoidBackward>)"
      ]
     },
     "execution_count": 2,
     "metadata": {},
     "output_type": "execute_result"
    }
   ],
   "source": [
    "network(-1., 0.1)"
   ]
  },
  {
   "cell_type": "code",
   "execution_count": 3,
   "metadata": {},
   "outputs": [],
   "source": [
    "iris = sklearn.datasets.load_iris()\n",
    "data = iris['data'][iris['target']<2][:, :2]\n",
    "labels = iris['target'][iris['target']<2]"
   ]
  },
  {
   "cell_type": "code",
   "execution_count": 4,
   "metadata": {},
   "outputs": [
    {
     "data": {
      "image/png": "[encoded data removed]",
      "text/plain": [
       "<Figure size 432x288 with 1 Axes>"
      ]
     },
     "metadata": {
      "needs_background": "light"
     },
     "output_type": "display_data"
    }
   ],
   "source": [
    "f, ax = plt.subplots()\n",
    "ax.scatter(data[labels==0][:, 0], data[labels==0][:, 1], color='blue', label='y=0')\n",
    "ax.scatter(data[labels==1][:, 0], data[labels==1][:, 1], color='red', label='y=1')\n",
    "ax.set_xlabel(\"x_0\")\n",
    "ax.set_ylabel(\"x_1\")\n",
    "ax.legend()\n",
    "plt.show()"
   ]
  },
  {
   "cell_type": "code",
   "execution_count": 5,
   "metadata": {},
   "outputs": [
    {
     "name": "stdout",
     "output_type": "stream",
     "text": [
      "[1.0, 1.0, 1.0, 1.0, 1.0, 1.0, 1.0, 1.0, 1.0, 1.0, 1.0, 1.0, 1.0, 1.0, 1.0, 1.0, 1.0, 1.0, 1.0, 1.0, 1.0, 1.0, 1.0, 1.0, 1.0, 1.0, 1.0, 1.0, 1.0, 1.0, 1.0, 1.0, 1.0, 1.0, 1.0, 1.0, 1.0, 1.0, 1.0, 1.0, 1.0, 0.9999999, 1.0, 1.0, 1.0, 1.0, 1.0, 1.0, 1.0, 1.0, 1.0, 1.0, 1.0, 1.0, 1.0, 1.0, 1.0, 1.0, 1.0, 1.0, 1.0, 1.0, 1.0, 1.0, 1.0, 1.0, 1.0, 1.0, 1.0, 1.0, 1.0, 1.0, 1.0, 1.0, 1.0, 1.0, 1.0, 1.0, 1.0, 1.0, 1.0, 1.0, 1.0, 1.0, 1.0, 1.0, 1.0, 1.0, 1.0, 1.0, 1.0, 1.0, 1.0, 1.0, 1.0, 1.0, 1.0, 1.0, 1.0, 1.0]\n"
     ]
    }
   ],
   "source": [
    "predictions = []\n",
    "for i in range(len(data)):\n",
    "    x_0, x_1 = data[i]\n",
    "    label = labels[i]\n",
    "    prediction = network(x_0, x_1)\n",
    "    predictions.append(prediction.detach().numpy()[0])\n",
    "print(predictions)"
   ]
  },
  {
   "cell_type": "code",
   "execution_count": 7,
   "metadata": {},
   "outputs": [],
   "source": [
    "loss_function = nn.BCELoss()"
   ]
  },
  {
   "cell_type": "code",
   "execution_count": 8,
   "metadata": {},
   "outputs": [],
   "source": [
    "params = [n_0.w_0, n_0.w_1, n_0.bias,\n",
    "          n_1.w_0, n_1.w_1, n_1.bias,\n",
    "          n_2.w_0, n_2.w_1, n_2.bias]"
   ]
  },
  {
   "cell_type": "code",
   "execution_count": 9,
   "metadata": {},
   "outputs": [],
   "source": [
    "learning_rate = 0.002\n",
    "optimizer = torch.optim.Adam(params=params, lr=learning_rate)"
   ]
  },
  {
   "cell_type": "code",
   "execution_count": 12,
   "metadata": {},
   "outputs": [
    {
     "name": "stdout",
     "output_type": "stream",
     "text": [
      "0.028797247\n",
      "0.02760769\n",
      "0.026479118\n",
      "0.025564885\n",
      "0.02455947\n",
      "0.023606671\n",
      "0.022703035\n",
      "0.021846445\n",
      "0.021034556\n",
      "0.020265024\n",
      "0.019535633\n",
      "0.018844051\n",
      "0.018188197\n",
      "0.017566351\n",
      "0.01697632\n",
      "0.016434897\n",
      "0.015909122\n",
      "0.0154232485\n",
      "0.014959232\n",
      "0.014517417\n",
      "0.014094188\n",
      "0.013704656\n",
      "0.01332408\n",
      "0.012960135\n",
      "0.01261209\n",
      "0.01227922\n",
      "0.011960436\n",
      "0.011655372\n",
      "0.011363062\n",
      "0.011083142\n",
      "0.010814887\n",
      "0.010557453\n",
      "0.010310478\n",
      "0.010073477\n",
      "0.009845968\n",
      "0.00962723\n",
      "0.00941702\n",
      "0.009214855\n",
      "0.009020494\n",
      "0.008833456\n",
      "0.0086530205\n",
      "0.008479185\n",
      "0.00831183\n",
      "0.008150354\n",
      "0.007994635\n",
      "0.007844075\n",
      "0.007698911\n",
      "0.007558544\n",
      "0.007422973\n",
      "0.0072915987\n",
      "0.0071647796\n",
      "0.007041916\n",
      "0.006922888\n",
      "0.0068076947\n",
      "0.0066959765\n",
      "0.006587614\n",
      "0.0064828447\n",
      "0.0063808314\n",
      "0.006281933\n",
      "0.006185909\n",
      "0.0060925204\n",
      "0.0060020057\n",
      "0.005914006\n",
      "0.0058282814\n",
      "0.0057450715\n",
      "0.005663897\n",
      "0.0055849976\n",
      "0.0055082524\n",
      "0.005433304\n",
      "0.005360509\n",
      "0.00528951\n",
      "0.005220306\n",
      "0.005152778\n",
      "0.0050868057\n",
      "0.0050226282\n",
      "0.004959887\n",
      "0.004897267\n",
      "0.0048350077\n",
      "0.0047740648\n",
      "0.004714677\n",
      "0.004656845\n",
      "0.0046002087\n",
      "0.004545008\n",
      "0.004491003\n",
      "0.004438434\n",
      "0.0043868218\n",
      "0.0043366444\n",
      "0.0042874245\n",
      "0.0042394\n",
      "0.004192213\n",
      "0.0041461024\n",
      "0.0041010673\n",
      "0.00405687\n",
      "0.0040135095\n",
      "0.003971464\n",
      "0.003929778\n",
      "0.0038891672\n",
      "0.0038493937\n",
      "0.0038103375\n",
      "0.00377176\n"
     ]
    }
   ],
   "source": [
    "n_epochs = 100\n",
    "for epoch_number in range(n_epochs):\n",
    "    loss = 0\n",
    "    for datapoint_number in range(len(data)):\n",
    "        optimizer.zero_grad()\n",
    "\n",
    "        x_0, x_1 = data[datapoint_number]\n",
    "        label = labels[datapoint_number]\n",
    "        prediction = network(x_0, x_1)\n",
    "        loss = loss_function(prediction, torch.from_numpy(np.array([label]).astype(np.float32)))\n",
    "\n",
    "        loss.backward()\n",
    "        optimizer.step()\n",
    "\n",
    "        loss += loss\n",
    "    print(loss.detach().numpy())"
   ]
  },
  {
   "cell_type": "code",
   "execution_count": 15,
   "metadata": {},
   "outputs": [
    {
     "name": "stdout",
     "output_type": "stream",
     "text": [
      "prediction: 0.01, label: 0\n",
      "prediction: 0.09, label: 0\n",
      "prediction: 0.01, label: 0\n",
      "prediction: 0.01, label: 0\n",
      "prediction: 0.01, label: 0\n",
      "prediction: 0.01, label: 0\n",
      "prediction: 0.01, label: 0\n",
      "prediction: 0.01, label: 0\n",
      "prediction: 0.01, label: 0\n",
      "prediction: 0.03, label: 0\n",
      "prediction: 0.01, label: 0\n",
      "prediction: 0.01, label: 0\n",
      "prediction: 0.04, label: 0\n",
      "prediction: 0.01, label: 0\n",
      "prediction: 0.01, label: 0\n",
      "prediction: 0.01, label: 0\n",
      "prediction: 0.01, label: 0\n",
      "prediction: 0.01, label: 0\n",
      "prediction: 0.01, label: 0\n",
      "prediction: 0.01, label: 0\n",
      "prediction: 0.07, label: 0\n",
      "prediction: 0.01, label: 0\n",
      "prediction: 0.01, label: 0\n",
      "prediction: 0.02, label: 0\n",
      "prediction: 0.01, label: 0\n",
      "prediction: 0.18, label: 0\n",
      "prediction: 0.01, label: 0\n",
      "prediction: 0.01, label: 0\n",
      "prediction: 0.01, label: 0\n",
      "prediction: 0.01, label: 0\n",
      "prediction: 0.02, label: 0\n",
      "prediction: 0.07, label: 0\n",
      "prediction: 0.01, label: 0\n",
      "prediction: 0.01, label: 0\n",
      "prediction: 0.03, label: 0\n",
      "prediction: 0.03, label: 0\n",
      "prediction: 0.05, label: 0\n",
      "prediction: 0.01, label: 0\n",
      "prediction: 0.01, label: 0\n",
      "prediction: 0.01, label: 0\n",
      "prediction: 0.01, label: 0\n",
      "prediction: 0.89, label: 0\n",
      "prediction: 0.01, label: 0\n",
      "prediction: 0.01, label: 0\n",
      "prediction: 0.01, label: 0\n",
      "prediction: 0.04, label: 0\n",
      "prediction: 0.01, label: 0\n",
      "prediction: 0.01, label: 0\n",
      "prediction: 0.01, label: 0\n",
      "prediction: 0.01, label: 0\n",
      "prediction: 1.00, label: 1\n",
      "prediction: 1.00, label: 1\n",
      "prediction: 1.00, label: 1\n",
      "prediction: 1.00, label: 1\n",
      "prediction: 1.00, label: 1\n",
      "prediction: 1.00, label: 1\n",
      "prediction: 1.00, label: 1\n",
      "prediction: 0.99, label: 1\n",
      "prediction: 1.00, label: 1\n",
      "prediction: 0.97, label: 1\n",
      "prediction: 1.00, label: 1\n",
      "prediction: 1.00, label: 1\n",
      "prediction: 1.00, label: 1\n",
      "prediction: 1.00, label: 1\n",
      "prediction: 0.99, label: 1\n",
      "prediction: 1.00, label: 1\n",
      "prediction: 0.97, label: 1\n",
      "prediction: 1.00, label: 1\n",
      "prediction: 1.00, label: 1\n",
      "prediction: 1.00, label: 1\n",
      "prediction: 0.97, label: 1\n",
      "prediction: 1.00, label: 1\n",
      "prediction: 1.00, label: 1\n",
      "prediction: 1.00, label: 1\n",
      "prediction: 1.00, label: 1\n",
      "prediction: 1.00, label: 1\n",
      "prediction: 1.00, label: 1\n",
      "prediction: 1.00, label: 1\n",
      "prediction: 1.00, label: 1\n",
      "prediction: 1.00, label: 1\n",
      "prediction: 1.00, label: 1\n",
      "prediction: 1.00, label: 1\n",
      "prediction: 1.00, label: 1\n",
      "prediction: 1.00, label: 1\n",
      "prediction: 0.85, label: 1\n",
      "prediction: 0.90, label: 1\n",
      "prediction: 1.00, label: 1\n",
      "prediction: 1.00, label: 1\n",
      "prediction: 0.97, label: 1\n",
      "prediction: 1.00, label: 1\n",
      "prediction: 1.00, label: 1\n",
      "prediction: 1.00, label: 1\n",
      "prediction: 1.00, label: 1\n",
      "prediction: 1.00, label: 1\n",
      "prediction: 1.00, label: 1\n",
      "prediction: 0.98, label: 1\n",
      "prediction: 0.99, label: 1\n",
      "prediction: 1.00, label: 1\n",
      "prediction: 0.99, label: 1\n",
      "prediction: 1.00, label: 1\n"
     ]
    }
   ],
   "source": [
    "predictions = []\n",
    "for i in range(len(data)):\n",
    "    x_0, x_1 = data[i]\n",
    "    label = labels[i]\n",
    "    prediction = network(x_0, x_1).detach().numpy()[0]\n",
    "    print(f'prediction: {prediction:.2f}, label: {label}')\n"
   ]
  },
  {
   "cell_type": "code",
   "execution_count": null,
   "metadata": {},
   "outputs": [],
   "source": []
  }
 ],
 "metadata": {
  "kernelspec": {
   "display_name": "Python 3.7.4 64-bit (conda)",
   "language": "python",
   "name": "python37464bitconda1afd2bebd57c4058801075be7a010ae1"
  },
  "language_info": {
   "codemirror_mode": {
    "name": "ipython",
    "version": 3
   },
   "file_extension": ".py",
   "mimetype": "text/x-python",
   "name": "python",
   "nbconvert_exporter": "python",
   "pygments_lexer": "ipython3",
   "version": "3.7.7"
  }
 },
 "nbformat": 4,
 "nbformat_minor": 2
}
