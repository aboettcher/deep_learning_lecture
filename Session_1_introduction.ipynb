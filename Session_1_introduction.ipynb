{
 "cells": [
  {
   "cell_type": "markdown",
   "metadata": {},
   "source": [
    "# Session 1: Introduction"
   ]
  },
  {
   "cell_type": "markdown",
   "metadata": {},
   "source": [
    "## Demonstration of automatic differentiation"
   ]
  },
  {
   "cell_type": "markdown",
   "metadata": {},
   "source": [
    "First we do the work manually and afterwards compare it to pytorchs result."
   ]
  },
  {
   "cell_type": "markdown",
   "metadata": {},
   "source": [
    "Consider the derivative of\n",
    "$$f(x) = 3x^2 -3x + 2$$\n",
    "at the position $x=1$."
   ]
  },
  {
   "cell_type": "markdown",
   "metadata": {},
   "source": [
    "Calculate the derivative:\n",
    "$$f'(x) = 2*3x - 3+ 0$$"
   ]
  },
  {
   "cell_type": "markdown",
   "metadata": {},
   "source": [
    "Evaluate the derivative at positione $x=1$:\n",
    "$$f'(1) = 2*3*1 -3*1 + 0= 3$$"
   ]
  },
  {
   "cell_type": "markdown",
   "metadata": {},
   "source": [
    "Now let pytorch do the work for us"
   ]
  },
  {
   "cell_type": "code",
   "execution_count": 3,
   "metadata": {},
   "outputs": [
    {
     "data": {
      "text/plain": [
       "tensor([3.])"
      ]
     },
     "execution_count": 3,
     "metadata": {},
     "output_type": "execute_result"
    }
   ],
   "source": [
    "import torch\n",
    "\n",
    "x = torch.autograd.Variable(torch.Tensor([1]), requires_grad=True)\n",
    "y = 3*x**2 - 3*x + 2\n",
    "\n",
    "y.backward()\n",
    "x.grad"
   ]
  },
  {
   "cell_type": "markdown",
   "metadata": {},
   "source": [
    "# Demonstrate numerical optimization"
   ]
  },
  {
   "cell_type": "markdown",
   "metadata": {},
   "source": [
    "Let's calculate the minimum of $f$ analytically. That means calculate:\n",
    "$$\\arg\\min_{x} f(x) = \\arg\\min_{x} 3x^2 -3x + 2$$"
   ]
  },
  {
   "cell_type": "markdown",
   "metadata": {},
   "source": [
    "We set the derivative to zero and solve for $x$:\n",
    "$$\\begin{aligned}\n",
    "f'(x) &= 0\\\\\n",
    "2*3x - 3+ 0 &= 0\\\\\n",
    "6x&=3\\\\\n",
    "x&=0.5\n",
    "\\end{aligned}$$"
   ]
  },
  {
   "cell_type": "markdown",
   "metadata": {},
   "source": [
    "The minimum value of $f$ is therefore $f(0.5)= 1.25$"
   ]
  },
  {
   "cell_type": "markdown",
   "metadata": {},
   "source": [
    "Now let's do the same with pytorch. We will use a pytroch variable for and an optimizer to find the value for $x$ that minimizes $f$. We iterate and call the optimizer in each iteration to update the variable $x$ to approach the minimum value."
   ]
  },
  {
   "cell_type": "markdown",
   "metadata": {},
   "source": [
    "Important:\n",
    "- we start with a randomly initialized value for the parameters $x$\n",
    "- the optimization speed and success depends heavily on how we setup the optimizer\n",
    "- the programmer has to decide when to stop the iteration"
   ]
  },
  {
   "cell_type": "code",
   "execution_count": 105,
   "metadata": {},
   "outputs": [
    {
     "name": "stdout",
     "output_type": "stream",
     "text": [
      "last x: 0.4960996210575104, last f(x): 1.2500439882278442\n"
     ]
    }
   ],
   "source": [
    "import torch\n",
    "\n",
    "x = torch.autograd.Variable(torch.Tensor([1.]), requires_grad=True)\n",
    "\n",
    "n_iterations = 100\n",
    "learning_rate = 0.01\n",
    "optimizer = torch.optim.Adam(params=[x], lr=learning_rate)\n",
    "\n",
    "def f(x):\n",
    "    return 3*x**2 - 3*x + 2\n",
    "\n",
    "f_x_vals = []\n",
    "x_vals = []\n",
    "for interation_number in range(n_iterations):\n",
    "    optimizer.zero_grad()\n",
    "    cost = f(x)\n",
    "    cost.backward()\n",
    "    optimizer.step()\n",
    "    f_x_vals.append(cost.detach().numpy()[0])\n",
    "    x_vals.append(x.detach().numpy()[0])\n",
    "print(f'last x: {x_vals[-1]}, last f(x): {f_x_vals[-1]}')"
   ]
  },
  {
   "cell_type": "code",
   "execution_count": 118,
   "metadata": {},
   "outputs": [
    {
     "data": {
      "image/png": "[encoded data removed]",
      "text/plain": [
       "<Figure size 432x288 with 2 Axes>"
      ]
     },
     "metadata": {
      "needs_background": "light"
     },
     "output_type": "display_data"
    }
   ],
   "source": [
    "import matplotlib.pyplot as plt\n",
    "figure, axs = plt.subplots(2)\n",
    "axs[0].plot(f_x_vals, label='training progress')\n",
    "axs[0].axhline(1.25, color='red', label='optimum')\n",
    "axs[0].set_ylabel('$f(x)$')\n",
    "axs[0].legend()\n",
    "axs[1].plot(x_vals)\n",
    "axs[1].axhline(0.5, color='red')\n",
    "axs[1].set_ylabel('$x$')\n",
    "axs[1].set_xlabel('iteration number')\n",
    "plt.show()"
   ]
  },
  {
   "cell_type": "markdown",
   "metadata": {},
   "source": [
    "## Using different learning rates"
   ]
  },
  {
   "cell_type": "code",
   "execution_count": 108,
   "metadata": {},
   "outputs": [
    {
     "name": "stdout",
     "output_type": "stream",
     "text": [
      "last x: 0.4977536201477051, last f(x): 1.2500149011611938\n"
     ]
    }
   ],
   "source": [
    "import torch\n",
    "\n",
    "x = torch.autograd.Variable(torch.Tensor([1]), requires_grad=True)\n",
    "\n",
    "n_iterations = 100\n",
    "learning_rate = .1\n",
    "optimizer = torch.optim.Adam(params=[x], lr=learning_rate)\n",
    "\n",
    "def f(x):\n",
    "    return 3*x**2 - 3*x + 2\n",
    "\n",
    "f_x_vals = []\n",
    "x_vals = []\n",
    "for interation_number in range(n_iterations):\n",
    "    optimizer.zero_grad()\n",
    "    cost = f(x)\n",
    "    cost.backward()\n",
    "    optimizer.step()\n",
    "    f_x_vals.append(cost.detach().numpy()[0])\n",
    "    x_vals.append(x.detach().numpy()[0])\n",
    "print(f'last x: {x_vals[-1]}, last f(x): {f_x_vals[-1]}')"
   ]
  },
  {
   "cell_type": "code",
   "execution_count": 119,
   "metadata": {},
   "outputs": [
    {
     "data": {
      "image/png": "[encoded data removed]",
      "text/plain": [
       "<Figure size 432x288 with 2 Axes>"
      ]
     },
     "metadata": {
      "needs_background": "light"
     },
     "output_type": "display_data"
    }
   ],
   "source": [
    "import matplotlib.pyplot as plt\n",
    "figure, axs = plt.subplots(2)\n",
    "axs[0].plot(f_x_vals, label='training progress')\n",
    "axs[0].axhline(1.25, color='red', label='optimum')\n",
    "axs[0].set_ylabel('$f(x)$')\n",
    "axs[0].legend()\n",
    "axs[1].plot(x_vals)\n",
    "axs[1].axhline(0.5, color='red')\n",
    "axs[1].set_ylabel('$x$')\n",
    "axs[1].set_xlabel('iteration number')\n",
    "plt.show()"
   ]
  },
  {
   "cell_type": "markdown",
   "metadata": {},
   "source": [
    "## Using learning rate decay"
   ]
  },
  {
   "cell_type": "code",
   "execution_count": 114,
   "metadata": {},
   "outputs": [
    {
     "name": "stdout",
     "output_type": "stream",
     "text": [
      "last x: 0.5075238943099976, last f(x): 1.2501697540283203\n"
     ]
    }
   ],
   "source": [
    "import torch\n",
    "\n",
    "x = torch.autograd.Variable(torch.Tensor([1]), requires_grad=True)\n",
    "\n",
    "n_iterations = 100\n",
    "learning_rate = .1\n",
    "optimizer = torch.optim.Adam(params=[x], lr=learning_rate)\n",
    "scheduler = torch.optim.lr_scheduler.ReduceLROnPlateau(optimizer, 'min', patience=10, factor=0.1)\n",
    "\n",
    "def f(x):\n",
    "    return 3*x**2 - 3*x + 2\n",
    "\n",
    "f_x_vals = []\n",
    "x_vals = []\n",
    "for interation_number in range(n_iterations):\n",
    "    optimizer.zero_grad()\n",
    "    cost = f(x)\n",
    "    cost.backward()\n",
    "    optimizer.step()\n",
    "    scheduler.step(cost)\n",
    "    f_x_vals.append(cost.detach().numpy()[0])\n",
    "    x_vals.append(x.detach().numpy()[0])\n",
    "print(f'last x: {x_vals[-1]}, last f(x): {f_x_vals[-1]}')"
   ]
  },
  {
   "cell_type": "code",
   "execution_count": 120,
   "metadata": {},
   "outputs": [
    {
     "data": {
      "image/png": "[encoded data removed]",
      "text/plain": [
       "<Figure size 432x288 with 2 Axes>"
      ]
     },
     "metadata": {
      "needs_background": "light"
     },
     "output_type": "display_data"
    }
   ],
   "source": [
    "import matplotlib.pyplot as plt\n",
    "figure, axs = plt.subplots(2)\n",
    "axs[0].plot(f_x_vals, label='training progress')\n",
    "axs[0].axhline(1.25, color='red', label='optimum')\n",
    "axs[0].set_ylabel('$f(x)$')\n",
    "axs[0].legend()\n",
    "axs[1].plot(x_vals)\n",
    "axs[1].axhline(0.5, color='red')\n",
    "axs[1].set_ylabel('$x$')\n",
    "axs[1].set_xlabel('iteration number')\n",
    "plt.show()"
   ]
  },
  {
   "cell_type": "markdown",
   "metadata": {},
   "source": [
    "## Check out more\n",
    "There are plenty of optimizers and learning rate schedulers.\n",
    "Please visit https://pytorch.org/docs/stable/optim.html for more information."
   ]
  },
  {
   "cell_type": "markdown",
   "metadata": {},
   "source": [
    "# Note"
   ]
  },
  {
   "cell_type": "markdown",
   "metadata": {},
   "source": [
    "This part was generic introduction to optimization. From now on the notation is different from the one above.\n",
    "\n",
    "Here we optimize the parameter $x$. However in the next sections $x$ will be used to denote some fixed data e.g. an image. The parameters to optimze will be weights and biases of a network and commonly abbreviated by $w$ and $b$."
   ]
  },
  {
   "cell_type": "code",
   "execution_count": null,
   "metadata": {},
   "outputs": [],
   "source": []
  }
 ],
 "metadata": {
  "kernelspec": {
   "display_name": "Python 3",
   "language": "python",
   "name": "python3"
  },
  "language_info": {
   "codemirror_mode": {
    "name": "ipython",
    "version": 3
   },
   "file_extension": ".py",
   "mimetype": "text/x-python",
   "name": "python",
   "nbconvert_exporter": "python",
   "pygments_lexer": "ipython3",
   "version": "3.7.7"
  }
 },
 "nbformat": 4,
 "nbformat_minor": 2
}
